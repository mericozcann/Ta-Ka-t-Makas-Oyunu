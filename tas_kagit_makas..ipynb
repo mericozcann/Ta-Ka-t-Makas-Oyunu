{
 "cells": [
  {
   "cell_type": "code",
   "execution_count": null,
   "id": "7b860315-1230-4f2d-adfc-fc9cb1f4f9df",
   "metadata": {},
   "outputs": [
    {
     "name": "stdout",
     "output_type": "stream",
     "text": [
      "Taş, Kağıt, Makas oyununa hoş geldiniz!\n",
      "Kurallar: Taş makası yener, makas kağıdı yener, kağıt taşı yener.\n",
      "İlk iki turu kazanan oyunu kazanır. İyi şanslar!\n",
      "\n",
      "Tur 1\n"
     ]
    }
   ],
   "source": [
    "import random\n",
    "\n",
    "def tas_kagit_makas_ADINIZ_SOYADINIZ():\n",
    "    print(\"Taş, Kağıt, Makas oyununa hoş geldiniz!\")\n",
    "    print(\"Kurallar: Taş makası yener, makas kağıdı yener, kağıt taşı yener.\")\n",
    "    print(\"İlk iki turu kazanan oyunu kazanır. İyi şanslar!\\n\")\n",
    "\n",
    "    secenekler = [\"taş\", \"kağıt\", \"makas\"]\n",
    "    \n",
    "    while True:\n",
    "        oyuncu_galibiyetleri = 0\n",
    "        bilgisayar_galibiyetleri = 0\n",
    "        tur_sayisi = 0\n",
    "        \n",
    "        while oyuncu_galibiyetleri < 2 and bilgisayar_galibiyetleri < 2:\n",
    "            tur_sayisi += 1\n",
    "            print(f\"Tur {tur_sayisi}\")\n",
    "            \n",
    "            # Kullanıcıdan seçim al\n",
    "            oyuncu_secimi = input(\"Taş, kağıt, makas seçin: \").lower()\n",
    "            while oyuncu_secimi not in secenekler:\n",
    "                oyuncu_secimi = input(\"Geçersiz seçim! Lütfen taş, kağıt ya da makas seçin: \").lower()\n",
    "\n",
    "            # Bilgisayarın seçimi\n",
    "            bilgisayar_secimi = random.choice(secenekler)\n",
    "            print(f\"Bilgisayarın seçimi: {bilgisayar_secimi}\")\n",
    "            \n",
    "            # Kazananı belirle\n",
    "            if oyuncu_secimi == bilgisayar_secimi:\n",
    "                print(\"Berabere!\\n\")\n",
    "            elif (oyuncu_secimi == \"taş\" and bilgisayar_secimi == \"makas\") or \\\n",
    "                 (oyuncu_secimi == \"makas\" and bilgisayar_secimi == \"kağıt\") or \\\n",
    "                 (oyuncu_secimi == \"kağıt\" and bilgisayar_secimi == \"taş\"):\n",
    "                print(\"Bu turu kazandınız!\\n\")\n",
    "                oyuncu_galibiyetleri += 1\n",
    "            else:\n",
    "                print(\"Bu turu bilgisayar kazandı!\\n\")\n",
    "                bilgisayar_galibiyetleri += 1\n",
    "        \n",
    "        # Oyun galibini belirle\n",
    "        if oyuncu_galibiyetleri == 2:\n",
    "            print(\"Tebrikler! Oyunu kazandınız!\")\n",
    "        else:\n",
    "            print(\"Üzgünüm, bilgisayar oyunu kazandı.\")\n",
    "        \n",
    "        # Oyuna devam etmek isteyip istemediklerini sor\n",
    "        devam_et = input(\"Başka bir oyun oynamak ister misiniz? (evet/hayır): \").lower()\n",
    "        if devam_et != \"evet\":\n",
    "            print(\"Oyun sona erdi. Teşekkürler!\")\n",
    "            break\n",
    "        \n",
    "        # Bilgisayarın oyuna devam edip etmeyeceği\n",
    "        bilgisayar_devam = random.choice([\"evet\", \"hayır\"])\n",
    "        if bilgisayar_devam == \"hayır\":\n",
    "            print(\"Bilgisayar oynamak istemiyor. Oyun sona erdi. Teşekkürler!\")\n",
    "            break\n",
    "\n",
    "# Fonksiyonu çağırmak için:\n",
    "tas_kagit_makas_ADINIZ_SOYADINIZ()"
   ]
  },
  {
   "cell_type": "code",
   "execution_count": null,
   "id": "f0fef566-4ec7-449c-97a2-bebda82d12d3",
   "metadata": {},
   "outputs": [],
   "source": []
  }
 ],
 "metadata": {
  "kernelspec": {
   "display_name": "Python 3 (ipykernel)",
   "language": "python",
   "name": "python3"
  },
  "language_info": {
   "codemirror_mode": {
    "name": "ipython",
    "version": 3
   },
   "file_extension": ".py",
   "mimetype": "text/x-python",
   "name": "python",
   "nbconvert_exporter": "python",
   "pygments_lexer": "ipython3",
   "version": "3.12.4"
  }
 },
 "nbformat": 4,
 "nbformat_minor": 5
}
